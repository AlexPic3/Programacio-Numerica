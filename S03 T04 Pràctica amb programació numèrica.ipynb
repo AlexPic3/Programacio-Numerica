{
 "cells": [
  {
   "cell_type": "markdown",
   "id": "d5c79b7c",
   "metadata": {
    "toc": true
   },
   "source": [
    "<h1>Table of Contents<span class=\"tocSkip\"></span></h1>\n",
    "<div class=\"toc\"><ul class=\"toc-item\"><li><span><a href=\"#S03-T04-Pràctica-amb-programació-numèrica\" data-toc-modified-id=\"S03-T04-Pràctica-amb-programació-numèrica-1\"><span class=\"toc-item-num\">1&nbsp;&nbsp;</span>S03 T04 Pràctica amb programació numèrica</a></span></li><li><span><a href=\"#Descripció\" data-toc-modified-id=\"Descripció-2\"><span class=\"toc-item-num\">2&nbsp;&nbsp;</span>Descripció</a></span><ul class=\"toc-item\"><li><span><a href=\"#Nivell-1\" data-toc-modified-id=\"Nivell-1-2.1\"><span class=\"toc-item-num\">2.1&nbsp;&nbsp;</span>Nivell 1</a></span><ul class=\"toc-item\"><li><span><a href=\"#Exercici-1\" data-toc-modified-id=\"Exercici-1-2.1.1\"><span class=\"toc-item-num\">2.1.1&nbsp;&nbsp;</span>Exercici 1</a></span></li><li><span><a href=\"#Exercici-2\" data-toc-modified-id=\"Exercici-2-2.1.2\"><span class=\"toc-item-num\">2.1.2&nbsp;&nbsp;</span>Exercici 2</a></span></li><li><span><a href=\"#Exercici-3\" data-toc-modified-id=\"Exercici-3-2.1.3\"><span class=\"toc-item-num\">2.1.3&nbsp;&nbsp;</span>Exercici 3</a></span></li><li><span><a href=\"#Exercici-4\" data-toc-modified-id=\"Exercici-4-2.1.4\"><span class=\"toc-item-num\">2.1.4&nbsp;&nbsp;</span>Exercici 4</a></span></li><li><span><a href=\"#Exercici-4-Notas-AQUEST-EXERCICI-NO-ES-PER-VALORAR\" data-toc-modified-id=\"Exercici-4-Notas-AQUEST-EXERCICI-NO-ES-PER-VALORAR-2.1.5\"><span class=\"toc-item-num\">2.1.5&nbsp;&nbsp;</span>Exercici 4 Notas <strong>AQUEST EXERCICI NO ES PER VALORAR</strong></a></span></li></ul></li></ul></li></ul></div>"
   ]
  },
  {
   "cell_type": "markdown",
   "id": "5142204f",
   "metadata": {},
   "source": [
    "# S03 T04 Pràctica amb programació numèrica"
   ]
  },
  {
   "cell_type": "markdown",
   "id": "1e609bca",
   "metadata": {},
   "source": [
    "# Descripció\n",
    "* Familiaritza't amb la Programació Numèrica a través de la llibreria NumPy."
   ]
  },
  {
   "cell_type": "markdown",
   "id": "07cf5c38",
   "metadata": {},
   "source": [
    "## Nivell 1"
   ]
  },
  {
   "cell_type": "markdown",
   "id": "5ce639e7",
   "metadata": {},
   "source": [
    "### Exercici 1\n",
    "* Crea una funció que donat un Array d’una dimensió, et faci un resum estadístic bàsic de les dades. Si detecta que l’array té més d’una dimensió, ha de mostrar un missatge d’error."
   ]
  },
  {
   "cell_type": "code",
   "execution_count": 1,
   "id": "39dcde79",
   "metadata": {
    "ExecuteTime": {
     "end_time": "2021-09-28T16:04:34.793386Z",
     "start_time": "2021-09-28T16:04:34.662735Z"
    },
    "scrolled": true
   },
   "outputs": [
    {
     "name": "stdout",
     "output_type": "stream",
     "text": [
      "La media es: 4.0\n",
      "El valor medio es: 5.455\n",
      "La desviacion Standar: 3.577\n",
      "La varianza es: 12.793\n"
     ]
    }
   ],
   "source": [
    "# Opcio 1 Treballar amb arrays numpy\n",
    "import numpy as np\n",
    "\n",
    "arr = np.array([1, 2, 3, 4, 5,12,3,4,12,6,8])\n",
    "#arr = np.array([[1, 2, 3, 4, 5],[2,3,4,2,11]])\n",
    "\n",
    "def funcioArray (array1D):\n",
    "    if array1D.ndim != 1:\n",
    "        print (f\"La matriu {array1D} es de mes de una '(1)' dimencio.\")\n",
    "    else:\n",
    "        media = round(np.median(array1D),3)\n",
    "        medio = round(np.mean(array1D),3)\n",
    "        deStan = round(np.std(array1D),3)\n",
    "        var= round(np.var(array1D),3)\n",
    "  \n",
    "        print (f\"La media es: {media}\")\n",
    "        print (f\"El valor medio es: {medio}\")\n",
    "        print (f\"La desviacion Standar: {deStan}\")\n",
    "        print (f\"La varianza es: {var}\")\n",
    "    \n",
    "funcioArray(arr)\n"
   ]
  },
  {
   "cell_type": "code",
   "execution_count": 2,
   "id": "c0670333",
   "metadata": {
    "ExecuteTime": {
     "end_time": "2021-09-28T16:04:35.159041Z",
     "start_time": "2021-09-28T16:04:34.794384Z"
    }
   },
   "outputs": [
    {
     "data": {
      "text/html": [
       "<div>\n",
       "<style scoped>\n",
       "    .dataframe tbody tr th:only-of-type {\n",
       "        vertical-align: middle;\n",
       "    }\n",
       "\n",
       "    .dataframe tbody tr th {\n",
       "        vertical-align: top;\n",
       "    }\n",
       "\n",
       "    .dataframe thead th {\n",
       "        text-align: right;\n",
       "    }\n",
       "</style>\n",
       "<table border=\"1\" class=\"dataframe\">\n",
       "  <thead>\n",
       "    <tr style=\"text-align: right;\">\n",
       "      <th></th>\n",
       "      <th>0</th>\n",
       "    </tr>\n",
       "  </thead>\n",
       "  <tbody>\n",
       "    <tr>\n",
       "      <th>count</th>\n",
       "      <td>11.000000</td>\n",
       "    </tr>\n",
       "    <tr>\n",
       "      <th>mean</th>\n",
       "      <td>5.454545</td>\n",
       "    </tr>\n",
       "    <tr>\n",
       "      <th>std</th>\n",
       "      <td>3.751363</td>\n",
       "    </tr>\n",
       "    <tr>\n",
       "      <th>min</th>\n",
       "      <td>1.000000</td>\n",
       "    </tr>\n",
       "    <tr>\n",
       "      <th>25%</th>\n",
       "      <td>3.000000</td>\n",
       "    </tr>\n",
       "    <tr>\n",
       "      <th>50%</th>\n",
       "      <td>4.000000</td>\n",
       "    </tr>\n",
       "    <tr>\n",
       "      <th>75%</th>\n",
       "      <td>7.000000</td>\n",
       "    </tr>\n",
       "    <tr>\n",
       "      <th>max</th>\n",
       "      <td>12.000000</td>\n",
       "    </tr>\n",
       "  </tbody>\n",
       "</table>\n",
       "</div>"
      ],
      "text/plain": [
       "               0\n",
       "count  11.000000\n",
       "mean    5.454545\n",
       "std     3.751363\n",
       "min     1.000000\n",
       "25%     3.000000\n",
       "50%     4.000000\n",
       "75%     7.000000\n",
       "max    12.000000"
      ]
     },
     "execution_count": 2,
     "metadata": {},
     "output_type": "execute_result"
    }
   ],
   "source": [
    "# Opcio 2 . Convertir el arraya a un data frame per poder utilitzar la funcio\n",
    "# especifica de df.describe()\n",
    "import numpy as np\n",
    "import pandas as pd\n",
    "\n",
    "arr = np.array([1, 2, 3, 4, 5,12,3,4,12,6,8])\n",
    "#arr = np.array([[1, 2, 3, 4, 5],[2,3,4,2,11]])\n",
    "\n",
    "def funcioArrayDf (array1Ddf):\n",
    "    if array1Ddf.ndim != 1:\n",
    "        print (f\"La matriu {array1Ddf} es de mes de una '(1)' dimencio.\")\n",
    "    else:\n",
    "        array1Ddf_df = pd.DataFrame(array1Ddf)\n",
    "        return array1Ddf_df.describe()\n",
    "    \n",
    "funcioArrayDf(arr)\n",
    "\n"
   ]
  },
  {
   "cell_type": "markdown",
   "id": "01a690f4",
   "metadata": {},
   "source": [
    "### Exercici 2\n",
    "* Crea una funció que et generi un quadrat NxN de nombres aleatoris entre el 0 i el 100."
   ]
  },
  {
   "cell_type": "code",
   "execution_count": 3,
   "id": "bdf55a04",
   "metadata": {
    "ExecuteTime": {
     "end_time": "2021-09-28T16:04:35.174607Z",
     "start_time": "2021-09-28T16:04:35.160011Z"
    }
   },
   "outputs": [
    {
     "data": {
      "text/plain": [
       "array([[82, 69, 56, 69, 72],\n",
       "       [31, 43, 90, 56, 20],\n",
       "       [40,  3, 16, 23, 12],\n",
       "       [94, 79, 78, 64, 30],\n",
       "       [22, 47, 69, 30, 15]])"
      ]
     },
     "execution_count": 3,
     "metadata": {},
     "output_type": "execute_result"
    }
   ],
   "source": [
    "from numpy import random\n",
    "import pandas as pd\n",
    "\n",
    "def funciNxN (n):\n",
    "    matriunn=random.randint(100, size=(n,n))\n",
    "    return matriunn\n",
    "\n",
    "funciNxN(5)"
   ]
  },
  {
   "cell_type": "markdown",
   "id": "30a36e00",
   "metadata": {},
   "source": [
    "### Exercici 3\n",
    "* Crea una funció que donada una taula de dues dimensions, et calculi els totals per fila i els totals per columna."
   ]
  },
  {
   "cell_type": "code",
   "execution_count": 4,
   "id": "860101fa",
   "metadata": {
    "ExecuteTime": {
     "end_time": "2021-09-28T16:04:35.190010Z",
     "start_time": "2021-09-28T16:04:35.180038Z"
    }
   },
   "outputs": [
    {
     "name": "stdout",
     "output_type": "stream",
     "text": [
      "(5, 5)\n",
      "La suma per files es igual a: [[200 273 231 273 331]]\n",
      "La suma per columnes es igual a: [[52 65 95 21 96]\n",
      " [ 8 82 10 51 93]\n",
      " [80 70 20 92 40]\n",
      " [55 42 26 48 82]\n",
      " [ 5 14 80 61 20]]\n"
     ]
    }
   ],
   "source": [
    "def calcul (array):\n",
    "    print (array.shape)\n",
    "    sumFila = np.sum([array], axis=1)\n",
    "    sumColu = np.sum([array], axis=0)\n",
    "    print (f\"La suma per files es igual a: {sumFila}\")\n",
    "    print (f\"La suma per columnes es igual a: {sumColu}\")\n",
    "    \n",
    "calcul(funciNxN(5))    \n",
    "    "
   ]
  },
  {
   "cell_type": "markdown",
   "id": "d8acf0f0",
   "metadata": {},
   "source": [
    "### Exercici 4\n",
    "* Implementa manualment una funció que calculi el coeficient de correlació. Informa’t-en sobre els seus usos i interpretació."
   ]
  },
  {
   "cell_type": "code",
   "execution_count": 5,
   "id": "7ce0983d",
   "metadata": {
    "ExecuteTime": {
     "end_time": "2021-09-28T16:04:35.221971Z",
     "start_time": "2021-09-28T16:04:35.192005Z"
    }
   },
   "outputs": [
    {
     "name": "stdout",
     "output_type": "stream",
     "text": [
      "El resultat de la funció per esbrinar l'índex de la correlació es: 0.9984246043304558\n",
      "La Correlacion de X e Y fent servir numpy es:\n",
      " 0.9984246043304555\n"
     ]
    }
   ],
   "source": [
    "x=[189,190,208,227,239,252,257,274,293,308,316]\n",
    "y=[402,404,412,425,429,436,440,447,458,469,469]\n",
    "\n",
    "\n",
    "def CoefCorrel(x,y):\n",
    "    medx=np.mean(x)\n",
    "    medy=np.mean(y)\n",
    "    desx = np.std(x)\n",
    "    desy = np.std(y)\n",
    "    sum = 0\n",
    "    for i in range(0, len(x)):\n",
    "        sum += ((x[i] - medx) * (y[i] - medy))\n",
    "    covarianza = sum/(len(x))\n",
    "    \n",
    "    correlacio = covarianza/(desx*desy)\n",
    "    return correlacio\n",
    "\n",
    "\n",
    "print (\"El resultat de la funció per esbrinar l'índex de la correlació es:\", CoefCorrel(x,y))\n",
    "    \n",
    "# Comprobacio del resultat fent servir la funcio np.corrcoef de numpy\n",
    "\n",
    "correXY = np.corrcoef(x,y)[0][1]\n",
    "print (\"La Correlacion de X e Y fent servir numpy es:\\n\", correXY)\n",
    "    "
   ]
  },
  {
   "cell_type": "markdown",
   "id": "f54825fb",
   "metadata": {},
   "source": [
    "### Exercici 4 Notas **AQUEST EXERCICI NO ES PER VALORAR**\n",
    "* IMPORTANT . HI HA UNA DISCREPANCIA ENTRE ELS RESULTATS DE APLICAR LA FORMULA DIRECTAMENT PER CALCULAR EL VALOR DE LA COVARIANÇA (numpy.cov) I ELS RESULTATS DE LA APLICACIO DE LA FORMULA. "
   ]
  },
  {
   "cell_type": "code",
   "execution_count": 6,
   "id": "ffc9a39a",
   "metadata": {
    "ExecuteTime": {
     "end_time": "2021-09-28T16:04:35.237928Z",
     "start_time": "2021-09-28T16:04:35.222951Z"
    }
   },
   "outputs": [
    {
     "name": "stdout",
     "output_type": "stream",
     "text": [
      "media x: 250.27272727272728 \n",
      "media y 435.54545454545456\n",
      "Varianza x: 1812.0165289256197 \n",
      "Varianza y 520.2479338842975\n",
      "Desviacio Estandar x: 42.567787456310434 \n",
      "Desviacio Estandar y: 22.808944164171596\n",
      "La Covarianza de X e Y es:\n",
      " 1066.3363636363636\n",
      "969.396694214876\n",
      "0.9984246043304558\n"
     ]
    }
   ],
   "source": [
    "# https://www.superprof.es/apuntes/escolar/matematicas/estadistica/disbidimension/ejercicios-de-correlacion-y-regresion.html\n",
    "\n",
    "x2=[189,190,208,227,239,252,257,274,293,308,316]\n",
    "y2=[402,404,412,425,429,436,440,447,458,469,469]\n",
    "medx=np.mean(x2)\n",
    "medy=np.mean(y2)\n",
    "print (\"media x:\", medx, \"\\nmedia y\", medy)\n",
    "varx=np.var(x2)\n",
    "vary=np.var(y2)\n",
    "print (\"Varianza x:\", varx, \"\\nVarianza y\", vary)\n",
    "desx = np.std(x2)\n",
    "desy = np.std(y2)\n",
    "print (\"Desviacio Estandar x:\", desx, \"\\nDesviacio Estandar y:\", desy)\n",
    "\n",
    "covarXY = np.cov(x2,y2)[0][1]\n",
    "print (\"La Covarianza de X e Y es:\\n\", covarXY)\n",
    "\n",
    "# formula per calcul de la covariança per calcular la correlacio lineal\n",
    "sum = 0\n",
    "for i in range(0, len(x2)):\n",
    "    sum += ((x2[i] - medx) * (y2[i] - medy))\n",
    "covarianza = sum/(len(x2))\n",
    "print(covarianza)\n",
    "\n",
    "# correlacion = covarianza/(sqrt(varx*vary))\n",
    "# print (correlacion1)\n",
    "\n",
    "correlacion1 = covarianza/(desx*desy)\n",
    "print (correlacion1)\n",
    "\n",
    "# sum1 = 0\n",
    "# for i in range(0, len(x2)):\n",
    "#     sum1 += (x2[i] * y2[i])\n",
    "# cova1 = sum1/(len(x2))\n",
    "# covarianza1 = cova1 - (medx*medy)\n",
    "# print(covarianza1)\n"
   ]
  }
 ],
 "metadata": {
  "hide_input": false,
  "kernelspec": {
   "display_name": "Python 3 (ipykernel)",
   "language": "python",
   "name": "python3"
  },
  "language_info": {
   "codemirror_mode": {
    "name": "ipython",
    "version": 3
   },
   "file_extension": ".py",
   "mimetype": "text/x-python",
   "name": "python",
   "nbconvert_exporter": "python",
   "pygments_lexer": "ipython3",
   "version": "3.8.10"
  },
  "toc": {
   "base_numbering": 1,
   "nav_menu": {},
   "number_sections": true,
   "sideBar": true,
   "skip_h1_title": false,
   "title_cell": "Table of Contents",
   "title_sidebar": "Contents",
   "toc_cell": true,
   "toc_position": {},
   "toc_section_display": true,
   "toc_window_display": false
  },
  "varInspector": {
   "cols": {
    "lenName": 16,
    "lenType": 16,
    "lenVar": 40
   },
   "kernels_config": {
    "python": {
     "delete_cmd_postfix": "",
     "delete_cmd_prefix": "del ",
     "library": "var_list.py",
     "varRefreshCmd": "print(var_dic_list())"
    },
    "r": {
     "delete_cmd_postfix": ") ",
     "delete_cmd_prefix": "rm(",
     "library": "var_list.r",
     "varRefreshCmd": "cat(var_dic_list()) "
    }
   },
   "types_to_exclude": [
    "module",
    "function",
    "builtin_function_or_method",
    "instance",
    "_Feature"
   ],
   "window_display": false
  }
 },
 "nbformat": 4,
 "nbformat_minor": 5
}
